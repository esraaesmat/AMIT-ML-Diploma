{
 "cells": [
  {
   "cell_type": "markdown",
   "metadata": {},
   "source": [
    "# Assignment 3"
   ]
  },
  {
   "cell_type": "markdown",
   "metadata": {},
   "source": [
    "### Write a function to count the number 4 in a given list."
   ]
  },
  {
   "cell_type": "code",
   "execution_count": 17,
   "metadata": {},
   "outputs": [
    {
     "name": "stdout",
     "output_type": "stream",
     "text": [
      "6\n"
     ]
    }
   ],
   "source": [
    "given_list = [1,4,3,6,6,4,9,4,8,4,6,4,4]\n",
    "print(given_list.count(4))"
   ]
  },
  {
   "cell_type": "markdown",
   "metadata": {},
   "source": [
    "### write a  function to check whether a number is divisible by another number."
   ]
  },
  {
   "cell_type": "code",
   "execution_count": 32,
   "metadata": {
    "scrolled": true
   },
   "outputs": [
    {
     "name": "stdout",
     "output_type": "stream",
     "text": [
      "Divisable\n",
      "non-divisable\n"
     ]
    }
   ],
   "source": [
    "def div (x,y):\n",
    "    if x%y==0:\n",
    "        print('Divisable')\n",
    "    else: \n",
    "        print('non-divisable')\n",
    "div(4,2)\n",
    "div(5,3)"
   ]
  },
  {
   "cell_type": "markdown",
   "metadata": {},
   "source": [
    "### write a function to find the maximum and minimum numbers from a sequence of numbers."
   ]
  },
  {
   "cell_type": "code",
   "execution_count": 179,
   "metadata": {},
   "outputs": [
    {
     "name": "stdout",
     "output_type": "stream",
     "text": [
      "Maximum number is  90 Minimum number is  1\n"
     ]
    }
   ],
   "source": [
    "seq=[1,4,2,5,3,7,90]\n",
    "\n",
    "def max_min(seq):\n",
    "    print('Maximum number is ', max(seq), 'Minimum number is ',min(seq))\n",
    "\n",
    "max_min(seq)"
   ]
  },
  {
   "cell_type": "markdown",
   "metadata": {},
   "source": [
    "### Write a Python function that takes two lists and returns True if they have at least one common member."
   ]
  },
  {
   "cell_type": "code",
   "execution_count": 35,
   "metadata": {},
   "outputs": [
    {
     "name": "stdout",
     "output_type": "stream",
     "text": [
      "not common\n",
      "not common\n",
      "true\n"
     ]
    }
   ],
   "source": [
    "def common_member(list1,list2):\n",
    "    for x in list1:\n",
    "        if x in list2:\n",
    "            print ('true')\n",
    "        else:\n",
    "            print('not common')\n",
    "    \n",
    "list1=[1,3,4]\n",
    "list2=[4,5,6]\n",
    "\n",
    "common_member(list1,list2)"
   ]
  },
  {
   "cell_type": "markdown",
   "metadata": {},
   "source": [
    "### Write a Python function to calculate the factorial of a number (a non-negative integer). The function accepts the number from the user"
   ]
  },
  {
   "cell_type": "code",
   "execution_count": 84,
   "metadata": {
    "scrolled": true
   },
   "outputs": [
    {
     "name": "stdout",
     "output_type": "stream",
     "text": [
      "Please enter a number: 4\n"
     ]
    },
    {
     "data": {
      "text/plain": [
       "24"
      ]
     },
     "execution_count": 84,
     "metadata": {},
     "output_type": "execute_result"
    }
   ],
   "source": [
    "n= int(input(\"Please enter a number: \"))\n",
    "\n",
    "\n",
    "def factorial(n):\n",
    "    result=1\n",
    "    for i in range (1, n+1):\n",
    "        result= result*i\n",
    "        \n",
    "    return result\n",
    "    \n",
    "factorial(n)\n",
    "    \n",
    "    \n",
    "# 1- enter a number (5: 1*2*3*4*5)\n",
    "# 2- calculate the factorial (factorial= 1*2 then 2*3 then 6*4 then 24*5)\n",
    "# 3- i in range 1-5, result=i*result\n",
    "# initial result is 1 (always starts at 1)\n",
    "\n",
    "    "
   ]
  },
  {
   "cell_type": "markdown",
   "metadata": {},
   "source": [
    "### Write a Python function to check whether a number is in a given range.\n",
    "\n",
    "### The range is from 3 to 11\n"
   ]
  },
  {
   "cell_type": "code",
   "execution_count": 6,
   "metadata": {},
   "outputs": [
    {
     "name": "stdout",
     "output_type": "stream",
     "text": [
      "enter a number: 6\n"
     ]
    },
    {
     "data": {
      "text/plain": [
       "'yes'"
      ]
     },
     "execution_count": 6,
     "metadata": {},
     "output_type": "execute_result"
    }
   ],
   "source": [
    "# create a range\n",
    "# use for loop \n",
    "\n",
    "x= list(range(3,12))\n",
    "\n",
    "n= int(input('enter a number: '))\n",
    "\n",
    "def number_in_list(n):\n",
    "    \n",
    "    if n in x: \n",
    "        return ('yes')\n",
    "    else:\n",
    "        return ('no')  \n",
    "    \n",
    "\n",
    "number_in_list(n)"
   ]
  },
  {
   "cell_type": "markdown",
   "metadata": {},
   "source": [
    "### Write a  program to create the multiplication table (from 1 to 10) of a number."
   ]
  },
  {
   "cell_type": "code",
   "execution_count": 15,
   "metadata": {},
   "outputs": [
    {
     "name": "stdout",
     "output_type": "stream",
     "text": [
      "Enter a number: 4\n",
      "4\n",
      "8\n",
      "12\n",
      "16\n",
      "20\n",
      "24\n",
      "28\n",
      "32\n",
      "36\n",
      "40\n"
     ]
    }
   ],
   "source": [
    "n=int(input('Enter a number: '))\n",
    "\n",
    "def multiplication_table(n):\n",
    "    for i in range(1,11):\n",
    "        result=n*i\n",
    "        print(result)\n",
    "    \n",
    "multiplication_table(n)"
   ]
  },
  {
   "cell_type": "markdown",
   "metadata": {},
   "source": [
    "#### LESSER OF TWO EVENS: Write a function that returns the lesser of two given numbers *if* both numbers are even, but returns the greater if one or both numbers are odd\n",
    "    lesser_of_two_evens(2,4) --> 2\n",
    "    lesser_of_two_evens(2,5) --> 5"
   ]
  },
  {
   "cell_type": "code",
   "execution_count": 30,
   "metadata": {},
   "outputs": [
    {
     "name": "stdout",
     "output_type": "stream",
     "text": [
      "enter first number: 4\n",
      "enter second number: 5\n",
      "greater number is:  5\n"
     ]
    }
   ],
   "source": [
    "n1=int(input('enter first number: '))\n",
    "n2=int(input('enter second number: '))\n",
    "\n",
    "def lesser_evens_greater_odds(n1,n2):\n",
    "    if n1%2==0 and n2%2==0:\n",
    "        print ('lesser of two evens is: ', min(n1,n2))\n",
    "    if n1%2!=0 or n2%2!=0:\n",
    "        print ('greater number is: ', max(n1,n2))\n",
    "    \n",
    "lesser_evens_greater_odds(n1,n2)"
   ]
  },
  {
   "cell_type": "markdown",
   "metadata": {},
   "source": [
    "#### ANIMAL CRACKERS: Write a function takes a two-word string and returns True if both words begin with same letter\n",
    "    animal_crackers('Levelheaded Llama') --> True\n",
    "    animal_crackers('Crazy Kangaroo') --> False"
   ]
  },
  {
   "cell_type": "code",
   "execution_count": 35,
   "metadata": {},
   "outputs": [
    {
     "name": "stdout",
     "output_type": "stream",
     "text": [
      "Please enter first word: elephant\n",
      "Please enter second word: kangaroo\n",
      "False\n"
     ]
    }
   ],
   "source": [
    "word1=input('Please enter first word: ')\n",
    "word2=input('Please enter second word: ')\n",
    "\n",
    "def Animal_Crackers (word1, word2):\n",
    "    if word1[0]==word2[0]:\n",
    "        print ('True')\n",
    "    else:\n",
    "        print('False')\n",
    "    return\n",
    "\n",
    "Animal_Crackers(word1, word2)"
   ]
  },
  {
   "cell_type": "markdown",
   "metadata": {},
   "source": [
    "#### MAKES TWENTY: Given two integers, return True if the sum of the integers is 20 *or* if one of the integers is 20. If not, return False\n",
    "\n",
    "    makes_twenty(20,10) --> True\n",
    "    makes_twenty(12,8) --> True\n",
    "    makes_twenty(2,3) --> False"
   ]
  },
  {
   "cell_type": "code",
   "execution_count": 39,
   "metadata": {},
   "outputs": [
    {
     "name": "stdout",
     "output_type": "stream",
     "text": [
      "Enter first number: 3\n",
      "Enter second number: 17\n",
      "True\n"
     ]
    }
   ],
   "source": [
    "n1= int(input('Enter first number: '))\n",
    "n2= int(input('Enter second number: '))\n",
    "\n",
    "def makes_twenty(n1,n2):\n",
    "    if n1+n2==20:\n",
    "        print('True')\n",
    "    elif n1==20 or n2==20:\n",
    "        print('True')\n",
    "    else:\n",
    "        print('False')\n",
    "    return\n",
    "makes_twenty(n1,n2)"
   ]
  },
  {
   "cell_type": "markdown",
   "metadata": {},
   "source": [
    "#### ALMOST THERE: Given an integer n, return True if n is within 10 of either 100 or 200\n",
    "\n",
    "    almost_there(90) --> True\n",
    "    almost_there(104) --> True\n",
    "    almost_there(150) --> False\n",
    "    almost_there(209) --> True\n",
    "    \n",
    "NOTE: `abs(num)` returns the absolute value of a number"
   ]
  },
  {
   "cell_type": "code",
   "execution_count": 73,
   "metadata": {},
   "outputs": [
    {
     "name": "stdout",
     "output_type": "stream",
     "text": [
      "enter a number: 160\n",
      "false\n"
     ]
    }
   ],
   "source": [
    "n= int(input('enter a number: '))\n",
    "\n",
    "x1= range(90,111)\n",
    "x2= range(190,211)\n",
    "\n",
    "def almost_there(n):\n",
    "    if n in x1 or n in x2: \n",
    "        print('true')\n",
    "    else: \n",
    "        print('false')\n",
    "\n",
    "almost_there(n)"
   ]
  },
  {
   "cell_type": "markdown",
   "metadata": {},
   "source": [
    "#### BLACKJACK: Given three integers between 1 and 11, if their sum is less than or equal to 21, return their sum. If their sum exceeds 21 *and* there's an eleven, reduce the total sum by 10. Finally, if the sum  exceeds 21, return 'BUST'\n",
    "    blackjack(5,6,7) --> 18\n",
    "    blackjack(9,9,9) --> 'BUST'\n",
    "    blackjack(9,9,11) --> 19"
   ]
  },
  {
   "cell_type": "code",
   "execution_count": 178,
   "metadata": {},
   "outputs": [
    {
     "name": "stdout",
     "output_type": "stream",
     "text": [
      "enter 1st number: 3\n",
      "enter 2nd number: 2\n",
      "enter 3rd number: 1\n",
      "The numbers you entered are:  [3, 2, 1]\n",
      "sum of given numbers is:  6\n"
     ]
    }
   ],
   "source": [
    "n1= int(input('enter 1st number: '))\n",
    "n2= int(input('enter 2nd number: '))\n",
    "n3= int(input('enter 3rd number: '))\n",
    "\n",
    "list_given_by_user= [n1,n2,n3] # prints numbers entered by user into a list\n",
    "\n",
    "def black_jack(list_given_by_user):\n",
    "\n",
    "# first make sure all numbers entered are within the range of 1 to 11\n",
    "    \n",
    "    if n1 in range(1,12) and n2 in range(1,12) and n3 in range (1,12):\n",
    "        print('The numbers you entered are: ', list_given_by_user)\n",
    "    else: \n",
    "        print('One or more numbers not in specified range')\n",
    "        \n",
    "# next is make apply each condition \n",
    "        \n",
    "    if n1+n2+n3 >21 and n1 ==11 or n2==11 or n3==11:\n",
    "        print('There is an 11')\n",
    "        result= (n1+n2+n3)-10\n",
    "        print('sum of given numbers followed by subtracion of 10 is: ', result)\n",
    "        \n",
    "    elif n1+n2+n3 <=21: \n",
    "        print ('sum of given numbers is: ', n1+n2+n3)\n",
    "        \n",
    "    elif n1+n2+n3 >21:\n",
    "        print('Bust')\n",
    "        \n",
    "    return\n",
    "\n",
    "black_jack(list_given_by_user)"
   ]
  }
 ],
 "metadata": {
  "kernelspec": {
   "display_name": "Python 3 (ipykernel)",
   "language": "python",
   "name": "python3"
  },
  "language_info": {
   "codemirror_mode": {
    "name": "ipython",
    "version": 3
   },
   "file_extension": ".py",
   "mimetype": "text/x-python",
   "name": "python",
   "nbconvert_exporter": "python",
   "pygments_lexer": "ipython3",
   "version": "3.9.7"
  }
 },
 "nbformat": 4,
 "nbformat_minor": 2
}
