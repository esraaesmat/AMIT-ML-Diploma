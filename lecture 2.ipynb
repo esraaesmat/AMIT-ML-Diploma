{
 "cells": [
  {
   "cell_type": "markdown",
   "id": "777e9401",
   "metadata": {},
   "source": [
    "# input\n"
   ]
  },
  {
   "cell_type": "code",
   "execution_count": 46,
   "id": "a7388d75",
   "metadata": {},
   "outputs": [
    {
     "name": "stdout",
     "output_type": "stream",
     "text": [
      "What is your name esraa\n",
      "How old are you? 31\n",
      "my name is esraa and my age is 31\n"
     ]
    }
   ],
   "source": [
    "name = input(\"What is your name \") # name variable\n",
    "age= int(input(\"How old are you? \")) # age variable\n",
    "print(\"my name is {} and my age is {}\".format(name, age))"
   ]
  },
  {
   "cell_type": "code",
   "execution_count": 15,
   "id": "6f9d37ca",
   "metadata": {
    "scrolled": true
   },
   "outputs": [
    {
     "name": "stdout",
     "output_type": "stream",
     "text": [
      "What is your name esraa\n",
      "How old are you? 31\n",
      "my name is 31 and my age is esraa\n"
     ]
    }
   ],
   "source": [
    "name = input(\"What is your name \") # name variable\n",
    "age= int(input(\"How old are you? \")) # age variable\n",
    "print(\"my name is {1} and my age is {0}\".format(name, age))"
   ]
  },
  {
   "cell_type": "markdown",
   "id": "bc81a339",
   "metadata": {},
   "source": [
    "# escape characters"
   ]
  },
  {
   "cell_type": "code",
   "execution_count": 19,
   "id": "f9342db9",
   "metadata": {},
   "outputs": [
    {
     "name": "stdout",
     "output_type": "stream",
     "text": [
      "esraa'esmat'\n"
     ]
    }
   ],
   "source": [
    "print('esraa\\'esmat\\'') # print in quotations"
   ]
  },
  {
   "cell_type": "code",
   "execution_count": 22,
   "id": "e2f1f6ea",
   "metadata": {},
   "outputs": [
    {
     "name": "stdout",
     "output_type": "stream",
     "text": [
      "esraa\n",
      "esmat\n"
     ]
    }
   ],
   "source": [
    "print('esraa\\nesmat') # print on next line"
   ]
  },
  {
   "cell_type": "markdown",
   "id": "f5fa4fd4",
   "metadata": {},
   "source": [
    "\n"
   ]
  },
  {
   "cell_type": "markdown",
   "id": "273fd3bb",
   "metadata": {},
   "source": [
    "# arithmatic operators"
   ]
  },
  {
   "cell_type": "code",
   "execution_count": 23,
   "id": "c1052e4e",
   "metadata": {},
   "outputs": [
    {
     "data": {
      "text/plain": [
       "1"
      ]
     },
     "execution_count": 23,
     "metadata": {},
     "output_type": "execute_result"
    }
   ],
   "source": [
    "9%2 # Moulus operator= remainder operator = nearest number that accepts division on 2 is 8 so the difference is 1"
   ]
  },
  {
   "cell_type": "code",
   "execution_count": 47,
   "id": "2a8414e9",
   "metadata": {},
   "outputs": [
    {
     "data": {
      "text/plain": [
       "2"
      ]
     },
     "execution_count": 47,
     "metadata": {},
     "output_type": "execute_result"
    }
   ],
   "source": [
    "11%3 # Moulus operator= remainder operator = nearest number that accepts division on 3 is 9 so the difference is 11-9=2"
   ]
  },
  {
   "cell_type": "code",
   "execution_count": 49,
   "id": "001e1b6f",
   "metadata": {},
   "outputs": [
    {
     "data": {
      "text/plain": [
       "1"
      ]
     },
     "execution_count": 49,
     "metadata": {},
     "output_type": "execute_result"
    }
   ],
   "source": [
    "3//2 # prints the nearest integer only i.e 3/2 is 1.5 so will print 1 only"
   ]
  },
  {
   "cell_type": "markdown",
   "id": "f7240b88",
   "metadata": {},
   "source": [
    "# TASK 1 LECTURE 3 IS AND IN operators. "
   ]
  },
  {
   "cell_type": "code",
   "execution_count": 31,
   "id": "4a8748b8",
   "metadata": {},
   "outputs": [
    {
     "name": "stdout",
     "output_type": "stream",
     "text": [
      "yes in x\n"
     ]
    }
   ],
   "source": [
    "x =[1, 2, 4, 87, 9208, 948728, 399727309, 'esraa', 'esmat', 'abdullah'] #list of variables\n",
    "if 'esraa' in x: \n",
    "    print('yes in x')\n",
    "else:\n",
    "    print('not in x')"
   ]
  },
  {
   "cell_type": "code",
   "execution_count": 42,
   "id": "c1bc27a9",
   "metadata": {},
   "outputs": [
    {
     "name": "stdout",
     "output_type": "stream",
     "text": [
      "ok\n"
     ]
    }
   ],
   "source": [
    "x= True \n",
    "if x == 1:\n",
    "    print('ok')"
   ]
  },
  {
   "cell_type": "code",
   "execution_count": 44,
   "id": "607bea61",
   "metadata": {},
   "outputs": [
    {
     "name": "stdout",
     "output_type": "stream",
     "text": [
      "ok\n"
     ]
    }
   ],
   "source": [
    "x= True\n",
    "if x is True:\n",
    "    print('ok')"
   ]
  },
  {
   "cell_type": "code",
   "execution_count": 45,
   "id": "55421251",
   "metadata": {},
   "outputs": [
    {
     "name": "stdout",
     "output_type": "stream",
     "text": [
      "ok\n"
     ]
    }
   ],
   "source": [
    "x= False\n",
    "if x is not True:\n",
    "    print('ok')"
   ]
  },
  {
   "cell_type": "markdown",
   "id": "c600e723",
   "metadata": {},
   "source": [
    "# Bitwise operators"
   ]
  },
  {
   "cell_type": "code",
   "execution_count": 52,
   "id": "bfa5a641",
   "metadata": {},
   "outputs": [
    {
     "data": {
      "text/plain": [
       "True"
      ]
     },
     "execution_count": 52,
     "metadata": {},
     "output_type": "execute_result"
    }
   ],
   "source": [
    "5>3 and 3>1"
   ]
  },
  {
   "cell_type": "code",
   "execution_count": 51,
   "id": "6931e8ea",
   "metadata": {},
   "outputs": [
    {
     "data": {
      "text/plain": [
       "True"
      ]
     },
     "execution_count": 51,
     "metadata": {},
     "output_type": "execute_result"
    }
   ],
   "source": [
    "5>3 & 3>1"
   ]
  },
  {
   "cell_type": "code",
   "execution_count": 56,
   "id": "c8cb2ba8",
   "metadata": {},
   "outputs": [
    {
     "data": {
      "text/plain": [
       "True"
      ]
     },
     "execution_count": 56,
     "metadata": {},
     "output_type": "execute_result"
    }
   ],
   "source": [
    "5>3 or 3>1"
   ]
  },
  {
   "cell_type": "code",
   "execution_count": 55,
   "id": "6ffc60dd",
   "metadata": {},
   "outputs": [
    {
     "data": {
      "text/plain": [
       "True"
      ]
     },
     "execution_count": 55,
     "metadata": {},
     "output_type": "execute_result"
    }
   ],
   "source": [
    "5>3 | 3>1"
   ]
  },
  {
   "cell_type": "code",
   "execution_count": 58,
   "id": "7c0a4923",
   "metadata": {},
   "outputs": [
    {
     "data": {
      "text/plain": [
       "False"
      ]
     },
     "execution_count": 58,
     "metadata": {},
     "output_type": "execute_result"
    }
   ],
   "source": [
    "5>6 and 3>1 # \"and\" compares statements not numbers so this statement is false.  "
   ]
  },
  {
   "cell_type": "code",
   "execution_count": 59,
   "id": "07cb6f34",
   "metadata": {},
   "outputs": [
    {
     "data": {
      "text/plain": [
       "True"
      ]
     },
     "execution_count": 59,
     "metadata": {},
     "output_type": "execute_result"
    }
   ],
   "source": [
    "5>6 & 3>1 # \"&\" compares binary numbers together so it was not able to see these as binary numbers"
   ]
  },
  {
   "cell_type": "code",
   "execution_count": 65,
   "id": "c9199891",
   "metadata": {},
   "outputs": [
    {
     "data": {
      "text/plain": [
       "False"
      ]
     },
     "execution_count": 65,
     "metadata": {},
     "output_type": "execute_result"
    }
   ],
   "source": [
    "(5>6) & (3>1) # when placed in brackets, now it is dealt with as an arithmatic operation and so priority is given to the brackets (so 5>6 is False i,e 0 and 3>1 is True so 1 and so 0 and 1 so both conditions are not applied so false"
   ]
  },
  {
   "cell_type": "code",
   "execution_count": 61,
   "id": "72ce3c37",
   "metadata": {},
   "outputs": [
    {
     "data": {
      "text/plain": [
       "False"
      ]
     },
     "execution_count": 61,
     "metadata": {},
     "output_type": "execute_result"
    }
   ],
   "source": [
    "5>6 | 3>1 # | compares integers and it doesn't see this as an arithmatic operation but as a statement so it doesn't understand it"
   ]
  },
  {
   "cell_type": "code",
   "execution_count": 64,
   "id": "6a657a63",
   "metadata": {},
   "outputs": [
    {
     "data": {
      "text/plain": [
       "True"
      ]
     },
     "execution_count": 64,
     "metadata": {},
     "output_type": "execute_result"
    }
   ],
   "source": [
    "5>6 or 3>1 # or compares statements so it sees this as statements. "
   ]
  },
  {
   "cell_type": "code",
   "execution_count": 66,
   "id": "f027a883",
   "metadata": {},
   "outputs": [
    {
     "data": {
      "text/plain": [
       "True"
      ]
     },
     "execution_count": 66,
     "metadata": {},
     "output_type": "execute_result"
    }
   ],
   "source": [
    "(5>6) | (3>1) # python sees this as an arithmatic operation so 5>6 is False and 3>1 is True so one of them is true so True"
   ]
  },
  {
   "cell_type": "markdown",
   "id": "bfceeecb",
   "metadata": {},
   "source": [
    "# Task 2 "
   ]
  },
  {
   "cell_type": "code",
   "execution_count": 68,
   "id": "717de388",
   "metadata": {},
   "outputs": [
    {
     "name": "stdout",
     "output_type": "stream",
     "text": [
      "1.9920979817708333e+20\n"
     ]
    }
   ],
   "source": [
    "G=6.67*10**-11\n",
    "M=6.0*10**24\n",
    "m=7.34*10**22\n",
    "r=3.84*10**8\n",
    "F=G*M*m/r**2\n",
    "print(F)"
   ]
  },
  {
   "cell_type": "markdown",
   "id": "14eebb44",
   "metadata": {},
   "source": [
    "# LISTS"
   ]
  },
  {
   "cell_type": "code",
   "execution_count": 70,
   "id": "205e8166",
   "metadata": {},
   "outputs": [],
   "source": [
    "x=[1, 'esraa', True, 2, [3, 4, 5]] # lists can accept any data type including mini lists and is MUTABLE so can modify content. "
   ]
  },
  {
   "cell_type": "code",
   "execution_count": 71,
   "id": "2167378c",
   "metadata": {},
   "outputs": [
    {
     "data": {
      "text/plain": [
       "5"
      ]
     },
     "execution_count": 71,
     "metadata": {},
     "output_type": "execute_result"
    }
   ],
   "source": [
    "len(x) # length of x"
   ]
  },
  {
   "cell_type": "code",
   "execution_count": 72,
   "id": "9daff2ce",
   "metadata": {},
   "outputs": [
    {
     "data": {
      "text/plain": [
       "1"
      ]
     },
     "execution_count": 72,
     "metadata": {},
     "output_type": "execute_result"
    }
   ],
   "source": [
    "x[0] # index position 0 in this list which is 1"
   ]
  },
  {
   "cell_type": "code",
   "execution_count": 73,
   "id": "488c0ede",
   "metadata": {},
   "outputs": [
    {
     "data": {
      "text/plain": [
       "[3, 4, 5]"
      ]
     },
     "execution_count": 73,
     "metadata": {},
     "output_type": "execute_result"
    }
   ],
   "source": [
    "x[4] # index position 4 in the list which is the minilist"
   ]
  },
  {
   "cell_type": "code",
   "execution_count": 75,
   "id": "31bca181",
   "metadata": {},
   "outputs": [
    {
     "data": {
      "text/plain": [
       "5"
      ]
     },
     "execution_count": 75,
     "metadata": {},
     "output_type": "execute_result"
    }
   ],
   "source": [
    "x[4][2] # index position 4 in the list then index position 2 in the minilist. "
   ]
  },
  {
   "cell_type": "code",
   "execution_count": 77,
   "id": "ec4d2d54",
   "metadata": {},
   "outputs": [
    {
     "data": {
      "text/plain": [
       "'e'"
      ]
     },
     "execution_count": 77,
     "metadata": {},
     "output_type": "execute_result"
    }
   ],
   "source": [
    "x[1][0] # index position 1 which is esraa then position 0 in esraa which is e"
   ]
  },
  {
   "cell_type": "code",
   "execution_count": 78,
   "id": "50b62f42",
   "metadata": {},
   "outputs": [],
   "source": [
    "x.append ('abdullah') # append by defaults add the item to the last position in the list. "
   ]
  },
  {
   "cell_type": "code",
   "execution_count": 113,
   "id": "85fee4fd",
   "metadata": {},
   "outputs": [],
   "source": [
    "x= ['abdullah', 1, True]"
   ]
  },
  {
   "cell_type": "code",
   "execution_count": 114,
   "id": "36734383",
   "metadata": {},
   "outputs": [
    {
     "data": {
      "text/plain": [
       "['abdullah', 1, True]"
      ]
     },
     "execution_count": 114,
     "metadata": {},
     "output_type": "execute_result"
    }
   ],
   "source": [
    "x"
   ]
  },
  {
   "cell_type": "code",
   "execution_count": 80,
   "id": "6f384773",
   "metadata": {},
   "outputs": [],
   "source": [
    "x[0]='esmat' # replaces the first item by the new item (so esmat instead of 1)"
   ]
  },
  {
   "cell_type": "code",
   "execution_count": 81,
   "id": "bef81602",
   "metadata": {},
   "outputs": [
    {
     "data": {
      "text/plain": [
       "['esmat', 'esraa', True, 2, [3, 4, 5], 'abdullah']"
      ]
     },
     "execution_count": 81,
     "metadata": {},
     "output_type": "execute_result"
    }
   ],
   "source": [
    "x"
   ]
  },
  {
   "cell_type": "code",
   "execution_count": 82,
   "id": "9c349175",
   "metadata": {},
   "outputs": [],
   "source": [
    "x.insert(1, 'mohamad') # insert function adds the new item in the position that i want. It accepts two parameters, the position that i want to add the item in and the new item to be added. Then it shift whatever was in position 1 to the following position. "
   ]
  },
  {
   "cell_type": "code",
   "execution_count": 83,
   "id": "1277653d",
   "metadata": {},
   "outputs": [
    {
     "data": {
      "text/plain": [
       "['esmat', 'mohamad', 'esraa', True, 2, [3, 4, 5], 'abdullah']"
      ]
     },
     "execution_count": 83,
     "metadata": {},
     "output_type": "execute_result"
    }
   ],
   "source": [
    "x"
   ]
  },
  {
   "cell_type": "code",
   "execution_count": 88,
   "id": "edaeae69",
   "metadata": {},
   "outputs": [],
   "source": [
    "x.remove('esraa')"
   ]
  },
  {
   "cell_type": "code",
   "execution_count": 89,
   "id": "3b5a8b72",
   "metadata": {},
   "outputs": [
    {
     "data": {
      "text/plain": [
       "['esmat', 'mohamad', True, 2, [3, 4, 5], 'abdullah']"
      ]
     },
     "execution_count": 89,
     "metadata": {},
     "output_type": "execute_result"
    }
   ],
   "source": [
    "x"
   ]
  },
  {
   "cell_type": "code",
   "execution_count": 90,
   "id": "f31bea10",
   "metadata": {},
   "outputs": [],
   "source": [
    "x.remove(True) # removes ITEM"
   ]
  },
  {
   "cell_type": "code",
   "execution_count": 115,
   "id": "ec1df8fa",
   "metadata": {},
   "outputs": [
    {
     "data": {
      "text/plain": [
       "['abdullah', 1, True]"
      ]
     },
     "execution_count": 115,
     "metadata": {},
     "output_type": "execute_result"
    }
   ],
   "source": [
    "x"
   ]
  },
  {
   "cell_type": "code",
   "execution_count": 116,
   "id": "4a0fc2f0",
   "metadata": {},
   "outputs": [
    {
     "data": {
      "text/plain": [
       "True"
      ]
     },
     "execution_count": 116,
     "metadata": {},
     "output_type": "execute_result"
    }
   ],
   "source": [
    "x.pop() # removes POSITION"
   ]
  },
  {
   "cell_type": "code",
   "execution_count": 108,
   "id": "299360b7",
   "metadata": {},
   "outputs": [
    {
     "data": {
      "text/plain": [
       "['abdullah']"
      ]
     },
     "execution_count": 108,
     "metadata": {},
     "output_type": "execute_result"
    }
   ],
   "source": [
    "x"
   ]
  },
  {
   "cell_type": "code",
   "execution_count": 92,
   "id": "44477669",
   "metadata": {},
   "outputs": [],
   "source": [
    "x.insert(0,'esraa')"
   ]
  },
  {
   "cell_type": "code",
   "execution_count": 109,
   "id": "db145a8b",
   "metadata": {},
   "outputs": [
    {
     "data": {
      "text/plain": [
       "['abdullah']"
      ]
     },
     "execution_count": 109,
     "metadata": {},
     "output_type": "execute_result"
    }
   ],
   "source": [
    "x"
   ]
  },
  {
   "cell_type": "code",
   "execution_count": 94,
   "id": "d13a471b",
   "metadata": {},
   "outputs": [],
   "source": [
    "y=(1, 2, 3)"
   ]
  },
  {
   "cell_type": "code",
   "execution_count": 95,
   "id": "8546f274",
   "metadata": {},
   "outputs": [
    {
     "data": {
      "text/plain": [
       "tuple"
      ]
     },
     "execution_count": 95,
     "metadata": {},
     "output_type": "execute_result"
    }
   ],
   "source": [
    "type(y)"
   ]
  },
  {
   "cell_type": "code",
   "execution_count": 96,
   "id": "af351233",
   "metadata": {},
   "outputs": [],
   "source": [
    "y=list(y)"
   ]
  },
  {
   "cell_type": "code",
   "execution_count": 97,
   "id": "91632843",
   "metadata": {},
   "outputs": [
    {
     "data": {
      "text/plain": [
       "[1, 2, 3]"
      ]
     },
     "execution_count": 97,
     "metadata": {},
     "output_type": "execute_result"
    }
   ],
   "source": [
    "y"
   ]
  },
  {
   "cell_type": "code",
   "execution_count": 99,
   "id": "a1bd0696",
   "metadata": {},
   "outputs": [],
   "source": [
    "y.extend([6,5,8]) # extend adds another list to the present list"
   ]
  },
  {
   "cell_type": "code",
   "execution_count": 100,
   "id": "b5331432",
   "metadata": {},
   "outputs": [
    {
     "data": {
      "text/plain": [
       "[1, 2, 3, 6, 5, 8]"
      ]
     },
     "execution_count": 100,
     "metadata": {},
     "output_type": "execute_result"
    }
   ],
   "source": [
    "y"
   ]
  },
  {
   "cell_type": "code",
   "execution_count": 117,
   "id": "6a24f32e",
   "metadata": {},
   "outputs": [
    {
     "data": {
      "text/plain": [
       "<function list.clear()>"
      ]
     },
     "execution_count": 117,
     "metadata": {},
     "output_type": "execute_result"
    }
   ],
   "source": [
    "y.clear"
   ]
  },
  {
   "cell_type": "code",
   "execution_count": 118,
   "id": "506ba215",
   "metadata": {},
   "outputs": [
    {
     "data": {
      "text/plain": [
       "[1, 2, 3, 6, 5, 8]"
      ]
     },
     "execution_count": 118,
     "metadata": {},
     "output_type": "execute_result"
    }
   ],
   "source": [
    "y"
   ]
  },
  {
   "cell_type": "code",
   "execution_count": 119,
   "id": "9ee654d0",
   "metadata": {},
   "outputs": [],
   "source": [
    "y.clear() # deleted everything in the list"
   ]
  },
  {
   "cell_type": "code",
   "execution_count": 126,
   "id": "e2eb91aa",
   "metadata": {},
   "outputs": [],
   "source": [
    "y=[1, 3, 4, 5, 8]"
   ]
  },
  {
   "cell_type": "code",
   "execution_count": 127,
   "id": "11cbcb4e",
   "metadata": {},
   "outputs": [
    {
     "data": {
      "text/plain": [
       "[1, 3, 4, 5, 8]"
      ]
     },
     "execution_count": 127,
     "metadata": {},
     "output_type": "execute_result"
    }
   ],
   "source": [
    "y"
   ]
  },
  {
   "cell_type": "code",
   "execution_count": 128,
   "id": "b458bfe7",
   "metadata": {},
   "outputs": [],
   "source": [
    "y2=y.copy()"
   ]
  },
  {
   "cell_type": "code",
   "execution_count": 129,
   "id": "cc27a6bb",
   "metadata": {},
   "outputs": [
    {
     "data": {
      "text/plain": [
       "[1, 3, 4, 5, 8]"
      ]
     },
     "execution_count": 129,
     "metadata": {},
     "output_type": "execute_result"
    }
   ],
   "source": [
    "y2"
   ]
  },
  {
   "cell_type": "markdown",
   "id": "612a55dd",
   "metadata": {},
   "source": [
    "# tuples"
   ]
  },
  {
   "cell_type": "code",
   "execution_count": 130,
   "id": "889fc9be",
   "metadata": {},
   "outputs": [],
   "source": [
    "x=(1, 2, \"esraa\", 'abdullah', True) # Tuple accepts different data types and IMMUNTABLE(can't be modified) ex: phone numbers, IDs, "
   ]
  },
  {
   "cell_type": "code",
   "execution_count": 131,
   "id": "3e79b364",
   "metadata": {},
   "outputs": [
    {
     "data": {
      "text/plain": [
       "(1, 2, 'esraa', 'abdullah', True)"
      ]
     },
     "execution_count": 131,
     "metadata": {},
     "output_type": "execute_result"
    }
   ],
   "source": [
    "x"
   ]
  },
  {
   "cell_type": "code",
   "execution_count": 132,
   "id": "6f1c37eb",
   "metadata": {},
   "outputs": [
    {
     "data": {
      "text/plain": [
       "2"
      ]
     },
     "execution_count": 132,
     "metadata": {},
     "output_type": "execute_result"
    }
   ],
   "source": [
    "x[1]"
   ]
  },
  {
   "cell_type": "code",
   "execution_count": 133,
   "id": "4324f52e",
   "metadata": {},
   "outputs": [
    {
     "data": {
      "text/plain": [
       "True"
      ]
     },
     "execution_count": 133,
     "metadata": {},
     "output_type": "execute_result"
    }
   ],
   "source": [
    "x[4]"
   ]
  },
  {
   "cell_type": "code",
   "execution_count": 134,
   "id": "a87f06ef",
   "metadata": {
    "scrolled": true
   },
   "outputs": [
    {
     "ename": "AttributeError",
     "evalue": "'tuple' object has no attribute 'append'",
     "output_type": "error",
     "traceback": [
      "\u001b[1;31m---------------------------------------------------------------------------\u001b[0m",
      "\u001b[1;31mAttributeError\u001b[0m                            Traceback (most recent call last)",
      "\u001b[1;32m~\\AppData\\Local\\Temp/ipykernel_25024/1747627361.py\u001b[0m in \u001b[0;36m<module>\u001b[1;34m\u001b[0m\n\u001b[1;32m----> 1\u001b[1;33m \u001b[0mx\u001b[0m\u001b[1;33m.\u001b[0m\u001b[0mappend\u001b[0m\u001b[1;33m(\u001b[0m\u001b[1;34m'esmat'\u001b[0m\u001b[1;33m)\u001b[0m\u001b[1;33m\u001b[0m\u001b[1;33m\u001b[0m\u001b[0m\n\u001b[0m",
      "\u001b[1;31mAttributeError\u001b[0m: 'tuple' object has no attribute 'append'"
     ]
    }
   ],
   "source": [
    "x.append('esmat') # Can't append because can't accept modoification"
   ]
  },
  {
   "cell_type": "code",
   "execution_count": 135,
   "id": "269c0ed4",
   "metadata": {},
   "outputs": [
    {
     "ename": "TypeError",
     "evalue": "'tuple' object does not support item assignment",
     "output_type": "error",
     "traceback": [
      "\u001b[1;31m---------------------------------------------------------------------------\u001b[0m",
      "\u001b[1;31mTypeError\u001b[0m                                 Traceback (most recent call last)",
      "\u001b[1;32m~\\AppData\\Local\\Temp/ipykernel_25024/113523901.py\u001b[0m in \u001b[0;36m<module>\u001b[1;34m\u001b[0m\n\u001b[1;32m----> 1\u001b[1;33m \u001b[0mx\u001b[0m\u001b[1;33m[\u001b[0m\u001b[1;36m0\u001b[0m\u001b[1;33m]\u001b[0m\u001b[1;33m=\u001b[0m \u001b[1;34m\"esmat\"\u001b[0m\u001b[1;33m\u001b[0m\u001b[1;33m\u001b[0m\u001b[0m\n\u001b[0m",
      "\u001b[1;31mTypeError\u001b[0m: 'tuple' object does not support item assignment"
     ]
    }
   ],
   "source": [
    "x[0]= \"esmat\" # can't accept replacement because no modification."
   ]
  },
  {
   "cell_type": "code",
   "execution_count": 136,
   "id": "642a163a",
   "metadata": {},
   "outputs": [],
   "source": [
    "# to change a tuple (ex: add item to family registry)"
   ]
  },
  {
   "cell_type": "code",
   "execution_count": 153,
   "id": "120aa342",
   "metadata": {},
   "outputs": [],
   "source": [
    "a=('esraa', 'esmat', \"abdullah\", 'manal', 'abdulrhman')"
   ]
  },
  {
   "cell_type": "code",
   "execution_count": 160,
   "id": "861abf16",
   "metadata": {},
   "outputs": [
    {
     "data": {
      "text/plain": [
       "['esraa', 'esmat', 'abdullah', 'manal', 'abdulrhman']"
      ]
     },
     "execution_count": 160,
     "metadata": {},
     "output_type": "execute_result"
    }
   ],
   "source": [
    "a= list(a)\n",
    "a"
   ]
  },
  {
   "cell_type": "code",
   "execution_count": 161,
   "id": "a672f052",
   "metadata": {},
   "outputs": [],
   "source": [
    "a.append ('ramy')"
   ]
  },
  {
   "cell_type": "code",
   "execution_count": 162,
   "id": "affe5653",
   "metadata": {},
   "outputs": [
    {
     "data": {
      "text/plain": [
       "['esraa', 'esmat', 'abdullah', 'manal', 'abdulrhman', 'ramy']"
      ]
     },
     "execution_count": 162,
     "metadata": {},
     "output_type": "execute_result"
    }
   ],
   "source": [
    "a"
   ]
  },
  {
   "cell_type": "code",
   "execution_count": 163,
   "id": "d862afd7",
   "metadata": {},
   "outputs": [],
   "source": [
    "a=tuple(a)"
   ]
  },
  {
   "cell_type": "code",
   "execution_count": 164,
   "id": "10ff3578",
   "metadata": {},
   "outputs": [
    {
     "data": {
      "text/plain": [
       "('esraa', 'esmat', 'abdullah', 'manal', 'abdulrhman', 'ramy')"
      ]
     },
     "execution_count": 164,
     "metadata": {},
     "output_type": "execute_result"
    }
   ],
   "source": [
    "a"
   ]
  },
  {
   "cell_type": "code",
   "execution_count": 165,
   "id": "8d7be2f2",
   "metadata": {},
   "outputs": [],
   "source": [
    "b=('nahla', \"yossuf\", 'yonos', 'mohamed', 'ahmed')"
   ]
  },
  {
   "cell_type": "code",
   "execution_count": 166,
   "id": "5d0ef60b",
   "metadata": {},
   "outputs": [
    {
     "data": {
      "text/plain": [
       "('nahla', 'yossuf', 'yonos', 'mohamed', 'ahmed')"
      ]
     },
     "execution_count": 166,
     "metadata": {},
     "output_type": "execute_result"
    }
   ],
   "source": [
    "b"
   ]
  },
  {
   "cell_type": "code",
   "execution_count": 167,
   "id": "e9e574db",
   "metadata": {},
   "outputs": [
    {
     "data": {
      "text/plain": [
       "('esraa',\n",
       " 'esmat',\n",
       " 'abdullah',\n",
       " 'manal',\n",
       " 'abdulrhman',\n",
       " 'ramy',\n",
       " 'nahla',\n",
       " 'yossuf',\n",
       " 'yonos',\n",
       " 'mohamed',\n",
       " 'ahmed')"
      ]
     },
     "execution_count": 167,
     "metadata": {},
     "output_type": "execute_result"
    }
   ],
   "source": [
    " a+b # add two tuples by concatanation. "
   ]
  },
  {
   "cell_type": "code",
   "execution_count": 168,
   "id": "8eea5884",
   "metadata": {},
   "outputs": [
    {
     "data": {
      "text/plain": [
       "('esraa',\n",
       " 'esmat',\n",
       " 'abdullah',\n",
       " 'manal',\n",
       " 'abdulrhman',\n",
       " 'ramy',\n",
       " 'esraa',\n",
       " 'esmat',\n",
       " 'abdullah',\n",
       " 'manal',\n",
       " 'abdulrhman',\n",
       " 'ramy')"
      ]
     },
     "execution_count": 168,
     "metadata": {},
     "output_type": "execute_result"
    }
   ],
   "source": [
    "a*2 #multiply contents of tuple by 2, so repeat contents"
   ]
  },
  {
   "cell_type": "code",
   "execution_count": 169,
   "id": "101ed264",
   "metadata": {},
   "outputs": [
    {
     "data": {
      "text/plain": [
       "1"
      ]
     },
     "execution_count": 169,
     "metadata": {},
     "output_type": "execute_result"
    }
   ],
   "source": [
    "a.count('esraa') # counts how many times esraa is repeated in this data."
   ]
  },
  {
   "cell_type": "code",
   "execution_count": 170,
   "id": "e0586067",
   "metadata": {},
   "outputs": [
    {
     "data": {
      "text/plain": [
       "'esmat'"
      ]
     },
     "execution_count": 170,
     "metadata": {},
     "output_type": "execute_result"
    }
   ],
   "source": [
    "a[1]"
   ]
  },
  {
   "cell_type": "code",
   "execution_count": 171,
   "id": "e6391c53",
   "metadata": {},
   "outputs": [
    {
     "data": {
      "text/plain": [
       "'a'"
      ]
     },
     "execution_count": 171,
     "metadata": {},
     "output_type": "execute_result"
    }
   ],
   "source": [
    "a[1][3]"
   ]
  },
  {
   "cell_type": "code",
   "execution_count": 172,
   "id": "5c500211",
   "metadata": {},
   "outputs": [
    {
     "data": {
      "text/plain": [
       "2"
      ]
     },
     "execution_count": 172,
     "metadata": {},
     "output_type": "execute_result"
    }
   ],
   "source": [
    "a.index('abdullah')"
   ]
  },
  {
   "cell_type": "markdown",
   "id": "9d6a5e31",
   "metadata": {},
   "source": [
    "# Sets"
   ]
  },
  {
   "cell_type": "code",
   "execution_count": 173,
   "id": "59691d3d",
   "metadata": {},
   "outputs": [],
   "source": [
    "x=set()"
   ]
  },
  {
   "cell_type": "code",
   "execution_count": 174,
   "id": "c632ca27",
   "metadata": {},
   "outputs": [
    {
     "data": {
      "text/plain": [
       "set()"
      ]
     },
     "execution_count": 174,
     "metadata": {},
     "output_type": "execute_result"
    }
   ],
   "source": [
    "x"
   ]
  },
  {
   "cell_type": "code",
   "execution_count": 175,
   "id": "18d67c00",
   "metadata": {},
   "outputs": [],
   "source": [
    "x.add(1)"
   ]
  },
  {
   "cell_type": "code",
   "execution_count": 176,
   "id": "89e6cad7",
   "metadata": {},
   "outputs": [
    {
     "data": {
      "text/plain": [
       "{1}"
      ]
     },
     "execution_count": 176,
     "metadata": {},
     "output_type": "execute_result"
    }
   ],
   "source": [
    "x"
   ]
  },
  {
   "cell_type": "code",
   "execution_count": 177,
   "id": "645b8e3a",
   "metadata": {},
   "outputs": [],
   "source": [
    "x.add('esraa')"
   ]
  },
  {
   "cell_type": "code",
   "execution_count": 178,
   "id": "a4aa03e6",
   "metadata": {},
   "outputs": [
    {
     "data": {
      "text/plain": [
       "{1, 'esraa'}"
      ]
     },
     "execution_count": 178,
     "metadata": {},
     "output_type": "execute_result"
    }
   ],
   "source": [
    "x"
   ]
  },
  {
   "cell_type": "code",
   "execution_count": 179,
   "id": "411367ac",
   "metadata": {},
   "outputs": [],
   "source": [
    "x.add(2)"
   ]
  },
  {
   "cell_type": "code",
   "execution_count": 180,
   "id": "14213221",
   "metadata": {},
   "outputs": [
    {
     "data": {
      "text/plain": [
       "{1, 2, 'esraa'}"
      ]
     },
     "execution_count": 180,
     "metadata": {},
     "output_type": "execute_result"
    }
   ],
   "source": [
    "x"
   ]
  },
  {
   "cell_type": "code",
   "execution_count": 181,
   "id": "2ac79471",
   "metadata": {},
   "outputs": [
    {
     "data": {
      "text/plain": [
       "['esraa', 1, 2]"
      ]
     },
     "execution_count": 181,
     "metadata": {},
     "output_type": "execute_result"
    }
   ],
   "source": [
    "list(x)"
   ]
  },
  {
   "cell_type": "code",
   "execution_count": 187,
   "id": "08391f7a",
   "metadata": {},
   "outputs": [],
   "source": [
    "y=(1, 6, 8, 3, 1, 4, 9, 0, 1, 5)"
   ]
  },
  {
   "cell_type": "code",
   "execution_count": 189,
   "id": "4fe5fc15",
   "metadata": {},
   "outputs": [],
   "source": [
    "y=set(y)"
   ]
  },
  {
   "cell_type": "code",
   "execution_count": 190,
   "id": "fae8fd65",
   "metadata": {},
   "outputs": [
    {
     "data": {
      "text/plain": [
       "{0, 1, 3, 4, 5, 6, 8, 9}"
      ]
     },
     "execution_count": 190,
     "metadata": {},
     "output_type": "execute_result"
    }
   ],
   "source": [
    "y"
   ]
  },
  {
   "cell_type": "code",
   "execution_count": 191,
   "id": "4ff94f42",
   "metadata": {},
   "outputs": [
    {
     "data": {
      "text/plain": [
       "[0, 1, 3, 4, 5, 6, 8, 9]"
      ]
     },
     "execution_count": 191,
     "metadata": {},
     "output_type": "execute_result"
    }
   ],
   "source": [
    "list(y)"
   ]
  },
  {
   "cell_type": "code",
   "execution_count": 192,
   "id": "7b17b777",
   "metadata": {},
   "outputs": [
    {
     "data": {
      "text/plain": [
       "True"
      ]
     },
     "execution_count": 192,
     "metadata": {},
     "output_type": "execute_result"
    }
   ],
   "source": [
    "5 in y"
   ]
  },
  {
   "cell_type": "code",
   "execution_count": 202,
   "id": "a61b1c30",
   "metadata": {},
   "outputs": [],
   "source": [
    "y.update('7')"
   ]
  },
  {
   "cell_type": "code",
   "execution_count": 203,
   "id": "79a57319",
   "metadata": {},
   "outputs": [
    {
     "data": {
      "text/plain": [
       "{0, 1, '2', 3, 4, 5, 6, '7', 8, 9}"
      ]
     },
     "execution_count": 203,
     "metadata": {},
     "output_type": "execute_result"
    }
   ],
   "source": [
    "y"
   ]
  },
  {
   "cell_type": "code",
   "execution_count": 204,
   "id": "acbdd0fe",
   "metadata": {},
   "outputs": [],
   "source": [
    "x=[1,2,3]\n",
    "y=[4,5,6]\n",
    "x=set(x)\n",
    "y=set(y)"
   ]
  },
  {
   "cell_type": "code",
   "execution_count": 205,
   "id": "c76c74b7",
   "metadata": {},
   "outputs": [
    {
     "data": {
      "text/plain": [
       "{1, 2, 3}"
      ]
     },
     "execution_count": 205,
     "metadata": {},
     "output_type": "execute_result"
    }
   ],
   "source": [
    "x"
   ]
  },
  {
   "cell_type": "code",
   "execution_count": 211,
   "id": "634bfaab",
   "metadata": {},
   "outputs": [
    {
     "data": {
      "text/plain": [
       "{4, 5, 6}"
      ]
     },
     "execution_count": 211,
     "metadata": {},
     "output_type": "execute_result"
    }
   ],
   "source": [
    "y"
   ]
  },
  {
   "cell_type": "code",
   "execution_count": 212,
   "id": "0052dbec",
   "metadata": {},
   "outputs": [],
   "source": [
    "y.update(x)"
   ]
  },
  {
   "cell_type": "code",
   "execution_count": null,
   "id": "866b89a1",
   "metadata": {},
   "outputs": [],
   "source": []
  },
  {
   "cell_type": "code",
   "execution_count": 215,
   "id": "a46e3606",
   "metadata": {},
   "outputs": [
    {
     "data": {
      "text/plain": [
       "{1, 2, 3, 4, 5, 6}"
      ]
     },
     "execution_count": 215,
     "metadata": {},
     "output_type": "execute_result"
    }
   ],
   "source": [
    "x"
   ]
  },
  {
   "cell_type": "code",
   "execution_count": 216,
   "id": "1e6e1782",
   "metadata": {},
   "outputs": [],
   "source": [
    "x.add(9)"
   ]
  },
  {
   "cell_type": "code",
   "execution_count": 217,
   "id": "c04d2a06",
   "metadata": {},
   "outputs": [
    {
     "data": {
      "text/plain": [
       "{1, 2, 3, 4, 5, 6, 9}"
      ]
     },
     "execution_count": 217,
     "metadata": {},
     "output_type": "execute_result"
    }
   ],
   "source": [
    "x"
   ]
  },
  {
   "cell_type": "code",
   "execution_count": 226,
   "id": "7c831336",
   "metadata": {},
   "outputs": [],
   "source": [
    "x.remove(3)"
   ]
  },
  {
   "cell_type": "code",
   "execution_count": 227,
   "id": "b0233475",
   "metadata": {},
   "outputs": [
    {
     "data": {
      "text/plain": [
       "{1, 2, 4, 5, 6, 9}"
      ]
     },
     "execution_count": 227,
     "metadata": {},
     "output_type": "execute_result"
    }
   ],
   "source": [
    "x"
   ]
  },
  {
   "cell_type": "code",
   "execution_count": 228,
   "id": "aa25d2a7",
   "metadata": {},
   "outputs": [],
   "source": [
    "z=y.union(x)"
   ]
  },
  {
   "cell_type": "code",
   "execution_count": 229,
   "id": "0763a3ff",
   "metadata": {},
   "outputs": [
    {
     "data": {
      "text/plain": [
       "{1, 2, 3, 4, 5, 6, 9}"
      ]
     },
     "execution_count": 229,
     "metadata": {},
     "output_type": "execute_result"
    }
   ],
   "source": [
    "z"
   ]
  },
  {
   "cell_type": "code",
   "execution_count": 232,
   "id": "60618fd0",
   "metadata": {},
   "outputs": [
    {
     "data": {
      "text/plain": [
       "{1, 2, 4, 5, 6, 9}"
      ]
     },
     "execution_count": 232,
     "metadata": {},
     "output_type": "execute_result"
    }
   ],
   "source": [
    "z.intersection(x) # removes duplicated items from the two sets and returns a new set"
   ]
  },
  {
   "cell_type": "code",
   "execution_count": 235,
   "id": "168ed198",
   "metadata": {},
   "outputs": [],
   "source": [
    "x.intersection_update(z)"
   ]
  },
  {
   "cell_type": "code",
   "execution_count": 236,
   "id": "82e20955",
   "metadata": {},
   "outputs": [
    {
     "data": {
      "text/plain": [
       "{1, 2, 4, 5, 6, 9}"
      ]
     },
     "execution_count": 236,
     "metadata": {},
     "output_type": "execute_result"
    }
   ],
   "source": [
    "z"
   ]
  },
  {
   "cell_type": "markdown",
   "id": "b480b756",
   "metadata": {},
   "source": [
    "# dictionaries"
   ]
  },
  {
   "cell_type": "code",
   "execution_count": 237,
   "id": "f03d6e3e",
   "metadata": {},
   "outputs": [],
   "source": [
    "x={'name': 'esraa', 'age': 31, 'gender': 'female'}"
   ]
  },
  {
   "cell_type": "code",
   "execution_count": 238,
   "id": "11f4c2af",
   "metadata": {},
   "outputs": [
    {
     "data": {
      "text/plain": [
       "{'name': 'esraa', 'age': 31, 'gender': 'female'}"
      ]
     },
     "execution_count": 238,
     "metadata": {},
     "output_type": "execute_result"
    }
   ],
   "source": [
    "x"
   ]
  },
  {
   "cell_type": "code",
   "execution_count": 239,
   "id": "22479fb9",
   "metadata": {},
   "outputs": [
    {
     "data": {
      "text/plain": [
       "dict"
      ]
     },
     "execution_count": 239,
     "metadata": {},
     "output_type": "execute_result"
    }
   ],
   "source": [
    "type(x)"
   ]
  },
  {
   "cell_type": "code",
   "execution_count": 240,
   "id": "b5649f69",
   "metadata": {},
   "outputs": [],
   "source": [
    "x['name'] = \"ramy\" # can change value in the dictionary"
   ]
  },
  {
   "cell_type": "code",
   "execution_count": 241,
   "id": "a77caa89",
   "metadata": {},
   "outputs": [
    {
     "data": {
      "text/plain": [
       "{'name': 'ramy', 'age': 31, 'gender': 'female'}"
      ]
     },
     "execution_count": 241,
     "metadata": {},
     "output_type": "execute_result"
    }
   ],
   "source": [
    "x"
   ]
  },
  {
   "cell_type": "code",
   "execution_count": 245,
   "id": "b9373c39",
   "metadata": {},
   "outputs": [],
   "source": [
    "x['age'] =x['age']-31"
   ]
  },
  {
   "cell_type": "code",
   "execution_count": 263,
   "id": "afa554f0",
   "metadata": {},
   "outputs": [
    {
     "data": {
      "text/plain": [
       "{'name': 'ramy', 'age': 0, 'gender': 'female'}"
      ]
     },
     "execution_count": 263,
     "metadata": {},
     "output_type": "execute_result"
    }
   ],
   "source": [
    "x"
   ]
  },
  {
   "cell_type": "code",
   "execution_count": 267,
   "id": "452cf13d",
   "metadata": {},
   "outputs": [
    {
     "data": {
      "text/plain": [
       "dict_keys(['name', 'age', 'gender'])"
      ]
     },
     "execution_count": 267,
     "metadata": {},
     "output_type": "execute_result"
    }
   ],
   "source": [
    "x.keys() #returns all keys"
   ]
  },
  {
   "cell_type": "code",
   "execution_count": 269,
   "id": "b2d1b914",
   "metadata": {},
   "outputs": [
    {
     "data": {
      "text/plain": [
       "dict_values(['ramy', 0, 'female'])"
      ]
     },
     "execution_count": 269,
     "metadata": {},
     "output_type": "execute_result"
    }
   ],
   "source": [
    "x.values() # returns all values"
   ]
  },
  {
   "cell_type": "code",
   "execution_count": 270,
   "id": "ed087843",
   "metadata": {},
   "outputs": [
    {
     "data": {
      "text/plain": [
       "dict_items([('name', 'ramy'), ('age', 0), ('gender', 'female')])"
      ]
     },
     "execution_count": 270,
     "metadata": {},
     "output_type": "execute_result"
    }
   ],
   "source": [
    "x.items() # returns keys with their values in tuple"
   ]
  },
  {
   "cell_type": "code",
   "execution_count": 272,
   "id": "f0576c08",
   "metadata": {},
   "outputs": [
    {
     "data": {
      "text/plain": [
       "True"
      ]
     },
     "execution_count": 272,
     "metadata": {},
     "output_type": "execute_result"
    }
   ],
   "source": [
    "x.get('name')==x['name']"
   ]
  },
  {
   "cell_type": "code",
   "execution_count": 277,
   "id": "fc7d19e9",
   "metadata": {},
   "outputs": [],
   "source": [
    "x['faculty']='medicine'"
   ]
  },
  {
   "cell_type": "code",
   "execution_count": 278,
   "id": "6a82d3f5",
   "metadata": {},
   "outputs": [
    {
     "data": {
      "text/plain": [
       "{'name': 'ramy', 'age': 0, 'gender': 'female', 'faculty': 'medicine'}"
      ]
     },
     "execution_count": 278,
     "metadata": {},
     "output_type": "execute_result"
    }
   ],
   "source": [
    "x"
   ]
  },
  {
   "cell_type": "markdown",
   "id": "ee47b7f2",
   "metadata": {},
   "source": [
    "# TASK DICTIONARY"
   ]
  },
  {
   "cell_type": "code",
   "execution_count": 247,
   "id": "4329c529",
   "metadata": {},
   "outputs": [],
   "source": [
    "d = {'k1':[1,2,{'k2':['this is tricky',{'tough':[1,2,['hello']]}]}]}"
   ]
  },
  {
   "cell_type": "code",
   "execution_count": 262,
   "id": "4aecef7f",
   "metadata": {},
   "outputs": [
    {
     "data": {
      "text/plain": [
       "'h'"
      ]
     },
     "execution_count": 262,
     "metadata": {},
     "output_type": "execute_result"
    }
   ],
   "source": [
    "d['k1'][2]['k2'][1]['tough'][2][0][0]"
   ]
  },
  {
   "cell_type": "markdown",
   "id": "a45d9d9e",
   "metadata": {},
   "source": [
    "# Task 3"
   ]
  },
  {
   "cell_type": "code",
   "execution_count": 310,
   "id": "b136337d",
   "metadata": {},
   "outputs": [
    {
     "name": "stdout",
     "output_type": "stream",
     "text": [
      "Please enter three numbers separated by commas 3,5,4\n"
     ]
    }
   ],
   "source": [
    "number=input('Please enter three numbers separated by commas ')"
   ]
  },
  {
   "cell_type": "code",
   "execution_count": 311,
   "id": "9fc4f7ee",
   "metadata": {},
   "outputs": [
    {
     "data": {
      "text/plain": [
       "['3', ',', '5', ',', '4']"
      ]
     },
     "execution_count": 311,
     "metadata": {},
     "output_type": "execute_result"
    }
   ],
   "source": [
    "list(number)"
   ]
  },
  {
   "cell_type": "code",
   "execution_count": 312,
   "id": "750d9033",
   "metadata": {},
   "outputs": [
    {
     "data": {
      "text/plain": [
       "('3', ',', '5', ',', '4')"
      ]
     },
     "execution_count": 312,
     "metadata": {},
     "output_type": "execute_result"
    }
   ],
   "source": [
    "tuple(number)"
   ]
  },
  {
   "cell_type": "markdown",
   "id": "5eff1649",
   "metadata": {},
   "source": [
    "# if statement"
   ]
  },
  {
   "cell_type": "code",
   "execution_count": 285,
   "id": "547b9d10",
   "metadata": {},
   "outputs": [
    {
     "name": "stdout",
     "output_type": "stream",
     "text": [
      "not ok\n"
     ]
    }
   ],
   "source": [
    "x=4\n",
    "if x==5:\n",
    "    print('ok')\n",
    "else:\n",
    "    print('not ok')"
   ]
  },
  {
   "cell_type": "code",
   "execution_count": 287,
   "id": "4f5018f1",
   "metadata": {},
   "outputs": [
    {
     "name": "stdout",
     "output_type": "stream",
     "text": [
      "not ok\n"
     ]
    }
   ],
   "source": [
    "x=10\n",
    "if x==5:\n",
    "    print('ok')\n",
    "elif x==6:\n",
    "    print('ok2')\n",
    "elif x==7:\n",
    "    print('ok3')\n",
    "else:\n",
    "    print('not ok')"
   ]
  },
  {
   "cell_type": "code",
   "execution_count": 289,
   "id": "4dcae25d",
   "metadata": {},
   "outputs": [
    {
     "name": "stdout",
     "output_type": "stream",
     "text": [
      "not ok\n"
     ]
    }
   ],
   "source": [
    "x=6\n",
    "y=8\n",
    "\n",
    "if x==6 and y==9:\n",
    "    print('ok')\n",
    "else:\n",
    "    print('not ok')"
   ]
  },
  {
   "cell_type": "markdown",
   "id": "aa1da33d",
   "metadata": {},
   "source": [
    "# Task If statement"
   ]
  },
  {
   "cell_type": "code",
   "execution_count": 290,
   "id": "d11a13a7",
   "metadata": {},
   "outputs": [],
   "source": [
    "### get from user the grade\n",
    "# 85-100 A\n",
    "# 75-85 B\n",
    "# 65-75 C\n",
    "# 50-65 D\n",
    "# <50 F"
   ]
  },
  {
   "cell_type": "code",
   "execution_count": 303,
   "id": "23bda620",
   "metadata": {},
   "outputs": [
    {
     "name": "stdout",
     "output_type": "stream",
     "text": [
      "Please enter your grade 98\n",
      "A\n"
     ]
    }
   ],
   "source": [
    "x= int(input('Please enter your grade '))\n",
    "if x >= 85 and x <=100:\n",
    "    print ('A')\n",
    "elif x >=75 and x <85:\n",
    "    print ('B')\n",
    "elif x >=65 and x <75:\n",
    "    print('C')\n",
    "elif x >=50 and x <65:\n",
    "    print('D')\n",
    "else:\n",
    "    print('Good luck next year')"
   ]
  },
  {
   "cell_type": "code",
   "execution_count": null,
   "id": "e52df618",
   "metadata": {},
   "outputs": [],
   "source": []
  },
  {
   "cell_type": "code",
   "execution_count": null,
   "id": "a2f632eb",
   "metadata": {},
   "outputs": [],
   "source": []
  }
 ],
 "metadata": {
  "kernelspec": {
   "display_name": "Python 3 (ipykernel)",
   "language": "python",
   "name": "python3"
  },
  "language_info": {
   "codemirror_mode": {
    "name": "ipython",
    "version": 3
   },
   "file_extension": ".py",
   "mimetype": "text/x-python",
   "name": "python",
   "nbconvert_exporter": "python",
   "pygments_lexer": "ipython3",
   "version": "3.9.7"
  }
 },
 "nbformat": 4,
 "nbformat_minor": 5
}
