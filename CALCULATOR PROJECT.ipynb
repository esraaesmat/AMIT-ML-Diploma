{
 "cells": [
  {
   "cell_type": "code",
   "execution_count": null,
   "id": "58a09f04",
   "metadata": {},
   "outputs": [],
   "source": [
    "def myCalculator():\n",
    "    \n",
    "    \n",
    "    while True: \n",
    "        operation_needed= input('enter operation needed (add/subtract/multiply/divide)')\n",
    "        \n",
    "        if operation_needed not in ('add', 'subtract', 'multiply', 'divide'):\n",
    "            print('incorrect input')\n",
    "        else: \n",
    "            a= float(input('first value '))\n",
    "            b= float(input('second value '))\n",
    "    \n",
    "        add= a+b\n",
    "        subtract= a-b\n",
    "        multiply=a*b\n",
    "        divide=a/b\n",
    "\n",
    "        if operation_needed=='add':\n",
    "            print ('Your result is ', add)    \n",
    "        elif operation_needed=='subtract':\n",
    "            print('Your result is ', subtract)\n",
    "        elif operation_needed=='multiply':\n",
    "            print('Your result is ', multiply)\n",
    "        elif operation_needed=='divide':\n",
    "            print('Your result is ', divide)\n",
    "        \n",
    "        further_operations= input('Would you like to compute another task? y/n: ')\n",
    "        \n",
    "        if further_operations=='y':\n",
    "            continue\n",
    "        if further_operations=='n':\n",
    "            print('Thank you, Have a nice day')\n",
    "            break\n",
    "    "
   ]
  },
  {
   "cell_type": "code",
   "execution_count": 56,
   "id": "6f0ceea6",
   "metadata": {},
   "outputs": [
    {
     "name": "stdout",
     "output_type": "stream",
     "text": [
      "enter operation needed (add/subtract/multiply/divide)add\n",
      "first value 4\n",
      "second value 5\n",
      "Your result is  9.0\n",
      "Would you like to compute another task? y/n: y\n",
      "enter operation needed (add/subtract/multiply/divide)2\n",
      "incorrect input\n",
      "Would you like to compute another task? y/n: y\n",
      "enter operation needed (add/subtract/multiply/divide)multiply\n",
      "first value 3\n",
      "second value 4\n",
      "Your result is  12.0\n",
      "Would you like to compute another task? y/n: n\n",
      "Thank you, Have a nice day\n"
     ]
    }
   ],
   "source": [
    "myCalculator()"
   ]
  },
  {
   "cell_type": "code",
   "execution_count": null,
   "id": "21c9b20e",
   "metadata": {},
   "outputs": [],
   "source": []
  },
  {
   "cell_type": "code",
   "execution_count": null,
   "id": "904927e8",
   "metadata": {},
   "outputs": [],
   "source": []
  }
 ],
 "metadata": {
  "kernelspec": {
   "display_name": "Python 3 (ipykernel)",
   "language": "python",
   "name": "python3"
  },
  "language_info": {
   "codemirror_mode": {
    "name": "ipython",
    "version": 3
   },
   "file_extension": ".py",
   "mimetype": "text/x-python",
   "name": "python",
   "nbconvert_exporter": "python",
   "pygments_lexer": "ipython3",
   "version": "3.9.7"
  }
 },
 "nbformat": 4,
 "nbformat_minor": 5
}
